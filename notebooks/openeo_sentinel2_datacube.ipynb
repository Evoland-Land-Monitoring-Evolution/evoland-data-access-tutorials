{
 "cells": [
  {
   "cell_type": "markdown",
   "id": "ac8e70c5-5177-490e-bfd5-5d094149216b",
   "metadata": {},
   "source": [
    "# Creating a multi-temporal datacube of Sentinel-2 data"
   ]
  },
  {
   "cell_type": "code",
   "execution_count": 1,
   "id": "f5da3182-6cb4-453a-b00f-865169a098aa",
   "metadata": {},
   "outputs": [
    {
     "data": {
      "text/plain": [
       "'0.19.0'"
      ]
     },
     "execution_count": 1,
     "metadata": {},
     "output_type": "execute_result"
    }
   ],
   "source": [
    "import openeo\n",
    "openeo.client_version()"
   ]
  },
  {
   "cell_type": "markdown",
   "id": "c5ccd598-3774-4729-a9e5-9c6eb1f022df",
   "metadata": {},
   "source": [
    "This notebook shows how to create a datacube from Sentinel-2 data for further processing. It follows the more generic example available here: https://github.com/Open-EO/openeo-community-examples/blob/main/python/BasicSentinelMerge/sentinel_merge.ipynb. In this notebook, we create monthly composites from Sentinel-2 data, and apply linear interpolation to avoid gaps. Specific methods may of course require different cloud masking and preprocessing options."
   ]
  },
  {
   "cell_type": "code",
   "execution_count": 2,
   "id": "cfe784c6-7bdc-42d8-a1f2-bb42aeaedf14",
   "metadata": {},
   "outputs": [
    {
     "name": "stdout",
     "output_type": "stream",
     "text": [
      "Authenticated using refresh token.\n"
     ]
    },
    {
     "data": {
      "text/plain": [
       "<Connection to 'https://openeo.vito.be/openeo/1.1/' with OidcBearerAuth>"
      ]
     },
     "execution_count": 2,
     "metadata": {},
     "output_type": "execute_result"
    }
   ],
   "source": [
    "c=openeo.connect(\"openeo.vito.be\")#(\"openeo.cloud\")\n",
    "c.authenticate_oidc()\n"
   ]
  },
  {
   "cell_type": "code",
   "execution_count": 14,
   "id": "5552fb37-33ac-4d0e-84b7-f7e790edb1c5",
   "metadata": {},
   "outputs": [],
   "source": [
    "# Define the inputs\n",
    "temporal_extent = [\"2020-01-01\", \"2022-12-31\"] # temporal extent \n",
    "s2_bands = [\"B02\", \"B03\", \"B04\", \"B08\", \"B11\", \"B12\", \"SCL\"] # extracted bands\n",
    "max_cloud_cover=75 # only process images with a cloud cover lower than this threshold\n",
    "out_folder = './' # folder where the data will be stored\n",
    "composite_period = 'month' # composite period\n",
    "composite_method= 'median' # composite method\n",
    "spatial_extent = {'west': 399960, 'east': 400560, 'south': 4190220, 'north': 4190820, 'crs': 'epsg:32630'} # AOI\n"
   ]
  },
  {
   "cell_type": "markdown",
   "id": "7d530954-c356-459a-8f67-e1e97ec9d11f",
   "metadata": {},
   "source": [
    "To use the data collection, a user must use the correct backend with the data collection. Then using load_collection, they can specify bands, temporal extent (i.e. interested time interval), the maximum cloud cover and even spatial extent. More information can be found *[here](https://open-eo.github.io/openeo-python-client/datacube_construction.html#)* and *[here](https://open-eo.github.io/openeo-python-client/api.html#openeo.rest.connection.Connection.load_collection)*.\n",
    "\n",
    "Next, we apply cloud masking using dilation and erosion of the SCL layer, and composite the data to the desired composite period."
   ]
  },
  {
   "cell_type": "code",
   "execution_count": 8,
   "id": "7cac9b7e-a2e1-4d5d-9fea-83eccd902f76",
   "metadata": {},
   "outputs": [
    {
     "name": "stderr",
     "output_type": "stream",
     "text": [
      "/home/wdkeers/miniconda3/envs/eo42/lib/python3.9/site-packages/openeo/rest/connection.py:1087: UserWarning: SENTINEL2_L2A property filtering with properties that are undefined in the collection metadata (summaries): eo:cloud_cover.\n",
      "  return DataCube.load_collection(\n"
     ]
    }
   ],
   "source": [
    "\n",
    "# load collection\n",
    "sentinel2 = c.load_collection(\n",
    "    \"SENTINEL2_L2A\",\n",
    "    temporal_extent = temporal_extent,\n",
    "    bands = s2_bands,\n",
    "    max_cloud_cover=max_cloud_cover\n",
    ")\n",
    "\n",
    "# cloud masking based on the SCL layer\n",
    "sentinel2 = sentinel2.process(\n",
    "            \"mask_scl_dilation\",\n",
    "            data=sentinel2,\n",
    "            scl_band_name=\"SCL\",\n",
    "            kernel1_size=17, kernel2_size=77,\n",
    "            mask1_values=[2, 4, 5, 6, 7],\n",
    "            mask2_values=[3, 8, 9, 10, 11],\n",
    "            erosion_kernel_size=3)\n",
    "\n",
    "# composite the data using the median value per month\n",
    "sentinel2 = sentinel2.aggregate_temporal_period(composite_period, reducer= composite_method)\\\n",
    "    .apply_dimension(dimension=\"t\", process=\"array_interpolate_linear\")"
   ]
  },
  {
   "cell_type": "markdown",
   "id": "ebdf1d24-3952-4e9b-9aaa-37280715462a",
   "metadata": {},
   "source": [
    "We will scale the data with a factor 10000 using a UDF. More information on UDF can be found *[here](https://open-eo.github.io/openeo-python-client/udf.html)*."
   ]
  },
  {
   "cell_type": "code",
   "execution_count": 9,
   "id": "321d1b93-aa26-40d5-a107-c956e9d9eca0",
   "metadata": {},
   "outputs": [],
   "source": [
    "# scale the data using a user defined function\n",
    "my_udf = openeo.UDF(\"\"\"\n",
    "from openeo.udf import XarrayDataCube\n",
    "from openeo.udf.debug import inspect\n",
    "\n",
    "def apply_datacube(cube: XarrayDataCube, context: dict) -> XarrayDataCube:\n",
    "    array = cube.get_array()\n",
    "    inspect(array,level=\"ERROR\",message=\"inspecting input cube\")\n",
    "    array.values = 0.0001 * array.values\n",
    "    return cube\n",
    "\"\"\")\n",
    "\n",
    "sentinel2 = sentinel2.apply_neighborhood(my_udf, size=[\n",
    "        {'dimension': 'x', 'value': 112, 'unit': 'px'},\n",
    "        {'dimension': 'y', 'value': 112, 'unit': 'px'}\n",
    "    ], overlap=[\n",
    "        {'dimension': 'x', 'value': 8, 'unit': 'px'},\n",
    "        {'dimension': 'y', 'value': 8, 'unit': 'px'}\n",
    "    ])"
   ]
  },
  {
   "cell_type": "markdown",
   "id": "fa9f4683-fab7-462f-bbdb-a2caab8e5389",
   "metadata": {},
   "source": [
    "Finally, we crop the data to the pre-defined spatial extent and download the processed data."
   ]
  },
  {
   "cell_type": "code",
   "execution_count": 10,
   "id": "8ad843f4-ed48-4773-a32a-095782c4a6f2",
   "metadata": {},
   "outputs": [
    {
     "name": "stdout",
     "output_type": "stream",
     "text": [
      "0:00:00 Job 'vito-j-622703ff3b4f4fc1abdfe6557fea192f': send 'start'\n",
      "0:00:20 Job 'vito-j-622703ff3b4f4fc1abdfe6557fea192f': queued (progress N/A)\n",
      "0:00:25 Job 'vito-j-622703ff3b4f4fc1abdfe6557fea192f': queued (progress N/A)\n",
      "0:00:32 Job 'vito-j-622703ff3b4f4fc1abdfe6557fea192f': queued (progress N/A)\n",
      "0:00:40 Job 'vito-j-622703ff3b4f4fc1abdfe6557fea192f': queued (progress N/A)\n",
      "0:00:50 Job 'vito-j-622703ff3b4f4fc1abdfe6557fea192f': queued (progress N/A)\n",
      "0:01:02 Job 'vito-j-622703ff3b4f4fc1abdfe6557fea192f': queued (progress N/A)\n",
      "0:01:19 Job 'vito-j-622703ff3b4f4fc1abdfe6557fea192f': queued (progress N/A)\n",
      "0:01:38 Job 'vito-j-622703ff3b4f4fc1abdfe6557fea192f': queued (progress N/A)\n",
      "0:02:02 Job 'vito-j-622703ff3b4f4fc1abdfe6557fea192f': running (progress N/A)\n",
      "0:02:34 Job 'vito-j-622703ff3b4f4fc1abdfe6557fea192f': running (progress N/A)\n",
      "0:03:11 Job 'vito-j-622703ff3b4f4fc1abdfe6557fea192f': running (progress N/A)\n",
      "0:03:58 Job 'vito-j-622703ff3b4f4fc1abdfe6557fea192f': running (progress N/A)\n",
      "0:04:56 Job 'vito-j-622703ff3b4f4fc1abdfe6557fea192f': running (progress N/A)\n",
      "0:05:57 Job 'vito-j-622703ff3b4f4fc1abdfe6557fea192f': running (progress N/A)\n",
      "0:06:58 Job 'vito-j-622703ff3b4f4fc1abdfe6557fea192f': running (progress N/A)\n",
      "0:07:58 Job 'vito-j-622703ff3b4f4fc1abdfe6557fea192f': running (progress N/A)\n",
      "0:08:58 Job 'vito-j-622703ff3b4f4fc1abdfe6557fea192f': running (progress N/A)\n",
      "0:09:58 Job 'vito-j-622703ff3b4f4fc1abdfe6557fea192f': running (progress N/A)\n",
      "0:11:00 Job 'vito-j-622703ff3b4f4fc1abdfe6557fea192f': finished (progress N/A)\n"
     ]
    },
    {
     "data": {
      "text/plain": [
       "[PosixPath('openEO_2020-01-01Z.tif'),\n",
       " PosixPath('openEO_2020-02-01Z.tif'),\n",
       " PosixPath('openEO_2020-03-01Z.tif'),\n",
       " PosixPath('openEO_2020-04-01Z.tif'),\n",
       " PosixPath('openEO_2020-05-01Z.tif'),\n",
       " PosixPath('openEO_2020-06-01Z.tif'),\n",
       " PosixPath('openEO_2020-07-01Z.tif'),\n",
       " PosixPath('openEO_2020-08-01Z.tif'),\n",
       " PosixPath('openEO_2020-09-01Z.tif'),\n",
       " PosixPath('openEO_2020-10-01Z.tif'),\n",
       " PosixPath('openEO_2020-11-01Z.tif'),\n",
       " PosixPath('openEO_2020-12-01Z.tif'),\n",
       " PosixPath('openEO_2021-01-01Z.tif'),\n",
       " PosixPath('openEO_2021-02-01Z.tif'),\n",
       " PosixPath('openEO_2021-03-01Z.tif'),\n",
       " PosixPath('openEO_2021-04-01Z.tif'),\n",
       " PosixPath('openEO_2021-05-01Z.tif'),\n",
       " PosixPath('openEO_2021-06-01Z.tif'),\n",
       " PosixPath('openEO_2021-07-01Z.tif'),\n",
       " PosixPath('openEO_2021-08-01Z.tif'),\n",
       " PosixPath('openEO_2021-09-01Z.tif'),\n",
       " PosixPath('openEO_2021-10-01Z.tif'),\n",
       " PosixPath('openEO_2021-11-01Z.tif'),\n",
       " PosixPath('openEO_2021-12-01Z.tif'),\n",
       " PosixPath('openEO_2022-01-01Z.tif'),\n",
       " PosixPath('openEO_2022-02-01Z.tif'),\n",
       " PosixPath('openEO_2022-03-01Z.tif'),\n",
       " PosixPath('openEO_2022-04-01Z.tif'),\n",
       " PosixPath('openEO_2022-05-01Z.tif'),\n",
       " PosixPath('openEO_2022-06-01Z.tif'),\n",
       " PosixPath('openEO_2022-07-01Z.tif'),\n",
       " PosixPath('openEO_2022-08-01Z.tif'),\n",
       " PosixPath('openEO_2022-09-01Z.tif'),\n",
       " PosixPath('openEO_2022-10-01Z.tif'),\n",
       " PosixPath('openEO_2022-11-01Z.tif'),\n",
       " PosixPath('openEO_2022-12-01Z.tif'),\n",
       " PosixPath('job-results.json')]"
      ]
     },
     "execution_count": 10,
     "metadata": {},
     "output_type": "execute_result"
    }
   ],
   "source": [
    "job=sentinel2.filter_bbox(spatial_extent).execute_batch()\n",
    "results = job.get_results()\n",
    "results.download_files(out_folder)"
   ]
  }
 ],
 "metadata": {
  "kernelspec": {
   "display_name": "Python 3.9 (eo42)",
   "language": "python",
   "name": "eo42"
  },
  "language_info": {
   "codemirror_mode": {
    "name": "ipython",
    "version": 3
   },
   "file_extension": ".py",
   "mimetype": "text/x-python",
   "name": "python",
   "nbconvert_exporter": "python",
   "pygments_lexer": "ipython3",
   "version": "3.9.16"
  }
 },
 "nbformat": 4,
 "nbformat_minor": 5
}
